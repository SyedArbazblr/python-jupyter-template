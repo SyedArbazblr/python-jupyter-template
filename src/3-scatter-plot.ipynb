{
 "cells": [
  {
   "cell_type": "markdown",
   "metadata": {},
   "source": [
    "### Exercise 3: Scatter Plot with Annotations"
   ]
  },
  {
   "cell_type": "code",
   "execution_count": null,
   "metadata": {},
   "outputs": [],
   "source": [
    "import matplotlib.pyplot as plt\n",
    "import numpy as np\n",
    "\n",
    "# Function to validate input data\n",
    "def validate_data(x, y):\n",
    "    if not x or not y:  # Check if either x or y is empty\n",
    "        raise ValueError(\"Both x and y lists must be non-empty.\")\n",
    "    if len(x) != len(y):  # Ensure x and y have the same length\n",
    "        raise ValueError(\"x and y lists must have the same length.\")\n",
    "    if not all(isinstance(i, (int, float)) for i in x + y):  # Ensure all values are numeric\n",
    "        raise ValueError(\"All elements in x and y must be numeric.\")\n",
    "    return True\n",
    "\n",
    "# Data\n",
    "x = [1, 2, 3, 4, 5]\n",
    "y = [2, 4, 6, 8, 10]\n",
    "\n",
    "try:\n",
    "    # Validate the input data\n",
    "    validate_data(x, y)\n",
    "\n",
    "    # Create a scatter plot\n",
    "    plt.scatter(x, y)\n",
    "\n",
    "    # Annotate each point with its (x, y) value\n",
    "    for i in range(len(x)):\n",
    "        plt.text(x[i], y[i], f'({x[i]}, {y[i]})', ha='right', va='bottom')\n",
    "\n",
    "    # Labeling the axes and the plot\n",
    "    plt.xlabel('x')\n",
    "    plt.ylabel('y')\n",
    "    plt.title('Scatter Plot with Annotations')\n",
    "\n",
    "    # Show the plot\n",
    "    plt.show()\n",
    "\n",
    "except ValueError as e:\n",
    "    print(f\"Error: {e}\")\n"
   ]
  }
 ],
 "metadata": {
  "language_info": {
   "name": "python"
  }
 },
 "nbformat": 4,
 "nbformat_minor": 2
}
